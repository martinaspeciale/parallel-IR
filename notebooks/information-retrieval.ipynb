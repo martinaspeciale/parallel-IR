{
 "cells": [
  {
   "cell_type": "markdown",
   "id": "7bd9630f",
   "metadata": {},
   "source": [
    "# ParallelIR\n",
    "\n",
    "### Authors: Filippo Lucchesi, Francesco Pio Crispino, Martina Speciale\n",
    "\n",
    "#### Pulp Fiction Group\n",
    "\n",
    "---\n",
    "\n",
    "## 🎯 Project Overview\n",
    "\n",
    "This project implements a modular and parallelized **Information Retrieval (IR)** system, developed as part of an academic lab.\n",
    "\n",
    "The main objectives include:\n",
    "- Efficient **parallel construction** of the inverted index\n",
    "- Comparison of ranking functions: **TF-IDF vs BM25**\n",
    "- Use of **caching** to optimize repeated queries\n",
    "- Implementation of a custom **Relevance Feedback** algorithm inspired by Rocchio\n",
    "\n",
    "All experiments are run and benchmarked using the [`python-terrier`](https://github.com/terrier-org/pyterrier) framework and the [IR Datasets](https://ir-datasets.com/) library.\n"
   ]
  },
  {
   "cell_type": "markdown",
   "id": "837c8a4e",
   "metadata": {},
   "source": [
    "## 📦 Environment Setup\n",
    "\n",
    "We install all required Python libraries and handle NLTK downloads. This notebook is designed to run on **Kaggle** (GPU optional).\n"
   ]
  },
  {
   "cell_type": "code",
   "execution_count": 5,
   "id": "84ae03be",
   "metadata": {},
   "outputs": [
    {
     "name": "stderr",
     "output_type": "stream",
     "text": [
      "[nltk_data] Downloading package wordnet to /home/martina/nltk_data...\n",
      "[nltk_data]   Package wordnet is already up-to-date!\n",
      "[nltk_data] Downloading package stopwords to\n",
      "[nltk_data]     /home/martina/nltk_data...\n",
      "[nltk_data]   Package stopwords is already up-to-date!\n"
     ]
    },
    {
     "data": {
      "text/plain": [
       "True"
      ]
     },
     "execution_count": 5,
     "metadata": {},
     "output_type": "execute_result"
    }
   ],
   "source": [
    "# Install required packages (only needed once per environment)\n",
    "!pip install -q ir_datasets ir-measures scikit-learn dill pybind11 tqdm pympler python-terrier\n",
    "\n",
    "import nltk\n",
    "from nltk.corpus import wordnet\n",
    "from nltk.corpus import stopwords\n",
    "\n",
    "# Download required NLTK resources (only the first time)\n",
    "nltk.download('wordnet')\n",
    "nltk.download('stopwords')"
   ]
  },
  {
   "cell_type": "markdown",
   "id": "746bc8a8",
   "metadata": {},
   "source": [
    "## 📚 Imports and PyTerrier Setup\n",
    "\n",
    "We now import all core libraries for Information Retrieval, ranking, analysis, and visualization. PyTerrier is used for document indexing, ranking, and evaluation.\n"
   ]
  },
  {
   "cell_type": "code",
   "execution_count": 7,
   "id": "1c32c369",
   "metadata": {},
   "outputs": [],
   "source": [
    "# IR and evaluation\n",
    "import pyterrier as pt\n",
    "import ir_datasets\n",
    "import ir_measures\n",
    "from ir_measures import *\n",
    "\n",
    "# Data manipulation and visualization\n",
    "import pandas as pd\n",
    "import numpy as np\n",
    "import matplotlib.pyplot as plt\n",
    "import seaborn as sns\n",
    "\n",
    "# Utility libraries\n",
    "import os\n",
    "import re\n",
    "import math\n",
    "import time\n",
    "import heapq\n",
    "import hashlib\n",
    "import string\n",
    "import array\n",
    "import collections\n",
    "from collections import defaultdict, Counter\n",
    "from tqdm import tqdm\n"
   ]
  },
  {
   "cell_type": "code",
   "execution_count": 17,
   "id": "1ed9bd9d",
   "metadata": {},
   "outputs": [],
   "source": [
    "# ✅ Initialize PyTerrier (run once per session)\n",
    "if not pt.java.started():\n",
    "    pt.java.init()"
   ]
  },
  {
   "cell_type": "markdown",
   "id": "59a736e8",
   "metadata": {},
   "source": [
    "## 📄 Dataset and Indexing\n",
    "\n",
    "We now load the IR dataset using `ir_datasets` and prepare it for use with PyTerrier by indexing its documents.\n"
   ]
  },
  {
   "cell_type": "code",
   "execution_count": 14,
   "id": "5c316e4e",
   "metadata": {},
   "outputs": [
    {
     "name": "stdout",
     "output_type": "stream",
     "text": [
      "Dataset loaded: Dataset(id='vaswani', provides=['docs', 'queries', 'qrels'])\n",
      "Documents: 11429\n",
      "Queries: 93\n",
      "Qrels (relevance judgments): 2083\n"
     ]
    }
   ],
   "source": [
    "# Load the dataset using ir_datasets\n",
    "dataset = ir_datasets.load(\"vaswani\")\n",
    "\n",
    "# Print basic dataset info\n",
    "print(\"Dataset loaded:\", dataset)\n",
    "print(\"Documents:\", dataset.docs_count())\n",
    "print(\"Queries:\", dataset.queries_count())\n",
    "print(\"Qrels (relevance judgments):\", dataset.qrels_count())"
   ]
  },
  {
   "cell_type": "code",
   "execution_count": null,
   "id": "8f7969ec",
   "metadata": {},
   "outputs": [],
   "source": [
    "# Create the directory one level above notebooks\n",
    "import os\n",
    "os.makedirs(\"../indexes\", exist_ok=True)\n",
    "\n",
    "# Set path for index\n",
    "index_path = \"../indexes/vaswani-index\"\n",
    "\n",
    "# Build the index if it doesn't already exist\n",
    "if not os.path.exists(os.path.join(index_path, \"data.properties\")):\n",
    "    indexer = pt.IterDictIndexer(index_path)\n",
    "    indexref = indexer.index(\n",
    "        ({\"docno\": doc.doc_id, \"text\": doc.text} for doc in dataset.docs_iter())\n",
    "    )\n",
    "else:\n",
    "    indexref = pt.IndexRef.of(index_path)\n",
    "\n",
    "# Load the index\n",
    "index = pt.IndexFactory.of(indexref)\n"
   ]
  },
  {
   "cell_type": "markdown",
   "id": "cd437b9d",
   "metadata": {},
   "source": [
    "## 🔍 Retrieval: TF-IDF and BM25\n",
    "\n",
    "We now create two retrieval pipelines: one based on the TF-IDF weighting scheme, and one on BM25. These are evaluated on the Vaswani dataset using standard IR metrics.\n"
   ]
  },
  {
   "cell_type": "code",
   "execution_count": 22,
   "id": "f2cfaf80",
   "metadata": {},
   "outputs": [
    {
     "name": "stdout",
     "output_type": "stream",
     "text": [
      "Sample queries:\n",
      "  query_id                                               text\n",
      "0        1  MEASUREMENT OF DIELECTRIC CONSTANT OF LIQUIDS ...\n",
      "1        2  MATHEMATICAL ANALYSIS AND DESIGN DETAILS OF WA...\n",
      "2        3  USE OF DIGITAL COMPUTERS IN THE DESIGN OF BAND...\n",
      "3        4  SYSTEMS OF DATA CODING FOR INFORMATION TRANSFER\\n\n",
      "4        5  USE OF PROGRAMS IN ENGINEERING TESTING OF COMP...\n",
      "Sample qrels:\n",
      "  query_id doc_id  relevance iteration\n",
      "0        1   1239          1         0\n",
      "1        1   1502          1         0\n",
      "2        1   4462          1         0\n",
      "3        1   4569          1         0\n",
      "4        1   5472          1         0\n"
     ]
    },
    {
     "name": "stderr",
     "output_type": "stream",
     "text": [
      "/tmp/ipykernel_11193/422261853.py:2: DeprecationWarning: Call to deprecated class BatchRetrieve. (use pt.terrier.Retriever() instead) -- Deprecated since version 0.11.0.\n",
      "  bm25 = pt.BatchRetrieve(index, wmodel=\"BM25\")\n",
      "/tmp/ipykernel_11193/422261853.py:3: DeprecationWarning: Call to deprecated class BatchRetrieve. (use pt.terrier.Retriever() instead) -- Deprecated since version 0.11.0.\n",
      "  tfidf = pt.BatchRetrieve(index, wmodel=\"TF_IDF\")\n"
     ]
    }
   ],
   "source": [
    "# Create BM25 and TF-IDF retrieval pipelines\n",
    "bm25 = pt.BatchRetrieve(index, wmodel=\"BM25\")\n",
    "tfidf = pt.BatchRetrieve(index, wmodel=\"TF_IDF\")\n",
    "\n",
    "# Load queries and qrels (ground-truth relevance judgments)\n",
    "topics = dataset.queries_iter()\n",
    "qrels = dataset.qrels_iter()\n",
    "\n",
    "# Convert queries and qrels to DataFrames for use with PyTerrier\n",
    "topics_df = pd.DataFrame([t._asdict() for t in topics])\n",
    "qrels_df = pd.DataFrame([q._asdict() for q in qrels])\n",
    "\n",
    "# Preview query format\n",
    "print(\"Sample queries:\")\n",
    "print(topics_df.head())\n",
    "print(\"Sample qrels:\")\n",
    "print(qrels_df.head())"
   ]
  },
  {
   "cell_type": "markdown",
   "id": "958f3c0c",
   "metadata": {},
   "source": [
    "### 🛠 Column Mapping for PyTerrier Compatibility\n",
    "\n",
    "To use custom `topics` and `qrels` DataFrames with `pt.Experiment`, you must rename the columns to match what PyTerrier expects:\n",
    "\n",
    "| Original Column | Renamed To | Reason                        |\n",
    "|------------------|-------------|-------------------------------|\n",
    "| `query_id`       | `qid`       | PyTerrier expects this field |\n",
    "| `text`           | `query`     | PyTerrier expects this field |\n",
    "| `doc_id`         | `docno`     | Matches index document field |\n",
    "| `relevance`      | `label`     | Required as relevance score  |\n"
   ]
  },
  {
   "cell_type": "code",
   "execution_count": 36,
   "id": "4797c063",
   "metadata": {},
   "outputs": [],
   "source": [
    "# Rename columns to match PyTerrier requirements\n",
    "topics_df = topics_df.rename(columns={\"query_id\": \"qid\", \"text\": \"query\"})\n",
    "qrels_df = qrels_df.rename(columns={\"query_id\": \"qid\", \"doc_id\": \"docno\", \"relevance\": \"label\"})"
   ]
  }
 ],
 "metadata": {
  "kernelspec": {
   "display_name": ".venv",
   "language": "python",
   "name": "python3"
  },
  "language_info": {
   "codemirror_mode": {
    "name": "ipython",
    "version": 3
   },
   "file_extension": ".py",
   "mimetype": "text/x-python",
   "name": "python",
   "nbconvert_exporter": "python",
   "pygments_lexer": "ipython3",
   "version": "3.12.7"
  }
 },
 "nbformat": 4,
 "nbformat_minor": 5
}
