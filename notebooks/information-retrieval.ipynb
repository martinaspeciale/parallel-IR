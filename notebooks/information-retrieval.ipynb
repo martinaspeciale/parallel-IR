{
 "cells": [
  {
   "cell_type": "markdown",
   "id": "7bd9630f",
   "metadata": {},
   "source": [
    "# ParallelIR\n",
    "\n",
    "### Authors: Filippo Lucchesi, Francesco Pio Crispino, Martina Speciale\n",
    "\n",
    "#### Pulp Fiction Group\n",
    "\n",
    "---\n",
    "\n",
    "## 🎯 Project Overview\n",
    "\n",
    "This project implements a modular and parallelized **Information Retrieval (IR)** system, developed as part of an academic lab.\n",
    "\n",
    "The main objectives include:\n",
    "- Efficient **parallel construction** of the inverted index\n",
    "- Comparison of ranking functions: **TF-IDF vs BM25**\n",
    "- Use of **caching** to optimize repeated queries\n",
    "- Implementation of a custom **Relevance Feedback** algorithm inspired by Rocchio\n",
    "\n",
    "All experiments are run and benchmarked using the [`python-terrier`](https://github.com/terrier-org/pyterrier) framework and the [IR Datasets](https://ir-datasets.com/) library.\n"
   ]
  },
  {
   "cell_type": "markdown",
   "id": "837c8a4e",
   "metadata": {},
   "source": [
    "## 📦 Environment Setup\n",
    "\n",
    "We install all required Python libraries and handle NLTK downloads. This notebook is designed to run on **Kaggle** (GPU optional).\n"
   ]
  },
  {
   "cell_type": "code",
   "execution_count": 5,
   "id": "84ae03be",
   "metadata": {},
   "outputs": [
    {
     "name": "stderr",
     "output_type": "stream",
     "text": [
      "[nltk_data] Downloading package wordnet to /home/martina/nltk_data...\n",
      "[nltk_data]   Package wordnet is already up-to-date!\n",
      "[nltk_data] Downloading package stopwords to\n",
      "[nltk_data]     /home/martina/nltk_data...\n",
      "[nltk_data]   Package stopwords is already up-to-date!\n"
     ]
    },
    {
     "data": {
      "text/plain": [
       "True"
      ]
     },
     "execution_count": 5,
     "metadata": {},
     "output_type": "execute_result"
    }
   ],
   "source": [
    "# Install required packages (only needed once per environment)\n",
    "!pip install -q ir_datasets ir-measures scikit-learn dill pybind11 tqdm pympler python-terrier\n",
    "\n",
    "import nltk\n",
    "from nltk.corpus import wordnet\n",
    "from nltk.corpus import stopwords\n",
    "\n",
    "# Download required NLTK resources (only the first time)\n",
    "nltk.download('wordnet')\n",
    "nltk.download('stopwords')"
   ]
  },
  {
   "cell_type": "markdown",
   "id": "746bc8a8",
   "metadata": {},
   "source": [
    "## 📚 Imports and PyTerrier Setup\n",
    "\n",
    "We now import all core libraries for Information Retrieval, ranking, analysis, and visualization. PyTerrier is used for document indexing, ranking, and evaluation.\n"
   ]
  },
  {
   "cell_type": "code",
   "execution_count": 7,
   "id": "1c32c369",
   "metadata": {},
   "outputs": [],
   "source": [
    "# IR and evaluation\n",
    "import pyterrier as pt\n",
    "import ir_datasets\n",
    "import ir_measures\n",
    "from ir_measures import *\n",
    "\n",
    "# Data manipulation and visualization\n",
    "import pandas as pd\n",
    "import numpy as np\n",
    "import matplotlib.pyplot as plt\n",
    "import seaborn as sns\n",
    "\n",
    "# Utility libraries\n",
    "import os\n",
    "import re\n",
    "import math\n",
    "import time\n",
    "import heapq\n",
    "import hashlib\n",
    "import string\n",
    "import array\n",
    "import collections\n",
    "from collections import defaultdict, Counter\n",
    "from tqdm import tqdm\n"
   ]
  },
  {
   "cell_type": "code",
   "execution_count": 17,
   "id": "1ed9bd9d",
   "metadata": {},
   "outputs": [],
   "source": [
    "# ✅ Initialize PyTerrier (run once per session)\n",
    "if not pt.java.started():\n",
    "    pt.java.init()"
   ]
  },
  {
   "cell_type": "markdown",
   "id": "59a736e8",
   "metadata": {},
   "source": [
    "## 📄 Dataset and Indexing\n",
    "\n",
    "We now load the IR dataset using `ir_datasets` and prepare it for use with PyTerrier by indexing its documents.\n"
   ]
  },
  {
   "cell_type": "code",
   "execution_count": null,
   "id": "3b26e427",
   "metadata": {},
   "outputs": [
    {
     "data": {
      "text/plain": [
       "<ir_datasets.util.registry.Registry at 0x7e5e6756de20>"
      ]
     },
     "execution_count": 39,
     "metadata": {},
     "output_type": "execute_result"
    }
   ],
   "source": [
    "import ir_datasets\n",
    "ir_datasets.registsry"
   ]
  },
  {
   "cell_type": "code",
   "execution_count": 38,
   "id": "5c316e4e",
   "metadata": {},
   "outputs": [
    {
     "ename": "KeyError",
     "evalue": "'npl'",
     "output_type": "error",
     "traceback": [
      "\u001b[31m---------------------------------------------------------------------------\u001b[39m",
      "\u001b[31mKeyError\u001b[39m                                  Traceback (most recent call last)",
      "\u001b[36mCell\u001b[39m\u001b[36m \u001b[39m\u001b[32mIn[38]\u001b[39m\u001b[32m, line 2\u001b[39m\n\u001b[32m      1\u001b[39m \u001b[38;5;66;03m# Load the dataset using ir_datasets\u001b[39;00m\n\u001b[32m----> \u001b[39m\u001b[32m2\u001b[39m dataset = \u001b[43mir_datasets\u001b[49m\u001b[43m.\u001b[49m\u001b[43mload\u001b[49m\u001b[43m(\u001b[49m\u001b[33;43m\"\u001b[39;49m\u001b[33;43mnpl\u001b[39;49m\u001b[33;43m\"\u001b[39;49m\u001b[43m)\u001b[49m\n\u001b[32m      4\u001b[39m \u001b[38;5;66;03m# Print basic dataset info\u001b[39;00m\n\u001b[32m      5\u001b[39m \u001b[38;5;28mprint\u001b[39m(\u001b[33m\"\u001b[39m\u001b[33mDataset loaded:\u001b[39m\u001b[33m\"\u001b[39m, dataset)\n",
      "\u001b[36mFile \u001b[39m\u001b[32m~/PORTFOLIO/parallel-IR/.venv/lib/python3.12/site-packages/ir_datasets/__init__.py:22\u001b[39m, in \u001b[36mload\u001b[39m\u001b[34m(name)\u001b[39m\n\u001b[32m     21\u001b[39m \u001b[38;5;28;01mdef\u001b[39;00m\u001b[38;5;250m \u001b[39m\u001b[34mload\u001b[39m(name):\n\u001b[32m---> \u001b[39m\u001b[32m22\u001b[39m     \u001b[38;5;28;01mreturn\u001b[39;00m \u001b[43mregistry\u001b[49m\u001b[43m[\u001b[49m\u001b[43mname\u001b[49m\u001b[43m]\u001b[49m\n",
      "\u001b[36mFile \u001b[39m\u001b[32m~/PORTFOLIO/parallel-IR/.venv/lib/python3.12/site-packages/ir_datasets/util/registry.py:25\u001b[39m, in \u001b[36mRegistry.__getitem__\u001b[39m\u001b[34m(self, key)\u001b[39m\n\u001b[32m     23\u001b[39m             \u001b[38;5;28mself\u001b[39m.register(key, dataset)\n\u001b[32m     24\u001b[39m             \u001b[38;5;28;01mbreak\u001b[39;00m\n\u001b[32m---> \u001b[39m\u001b[32m25\u001b[39m result = \u001b[38;5;28;43mself\u001b[39;49m\u001b[43m.\u001b[49m\u001b[43m_registered\u001b[49m\u001b[43m[\u001b[49m\u001b[43mkey\u001b[49m\u001b[43m]\u001b[49m\n\u001b[32m     26\u001b[39m \u001b[38;5;28;01mif\u001b[39;00m \u001b[38;5;28mhasattr\u001b[39m(result, \u001b[33m'\u001b[39m\u001b[33mdeprecated\u001b[39m\u001b[33m'\u001b[39m):\n\u001b[32m     27\u001b[39m     \u001b[38;5;28;01mif\u001b[39;00m os.environ.get(\u001b[33m'\u001b[39m\u001b[33mIR_DATASETS_SKIP_DEPRECATED_WARNING\u001b[39m\u001b[33m'\u001b[39m, \u001b[33m'\u001b[39m\u001b[33m'\u001b[39m).lower() != \u001b[33m'\u001b[39m\u001b[33mtrue\u001b[39m\u001b[33m'\u001b[39m:\n",
      "\u001b[31mKeyError\u001b[39m: 'npl'"
     ]
    }
   ],
   "source": [
    "# Load the dataset using ir_datasets\n",
    "dataset = ir_datasets.load(\"npl\")\n",
    "\n",
    "# Print basic dataset info\n",
    "print(\"Dataset loaded:\", dataset)\n",
    "print(\"Documents:\", dataset.docs_count())\n",
    "print(\"Queries:\", dataset.queries_count())\n",
    "print(\"Qrels (relevance judgments):\", dataset.qrels_count())"
   ]
  },
  {
   "cell_type": "code",
   "execution_count": null,
   "id": "8f7969ec",
   "metadata": {},
   "outputs": [],
   "source": [
    "# Create the directory one level above notebooks\n",
    "import os\n",
    "os.makedirs(\"../indexes\", exist_ok=True)\n",
    "\n",
    "# Set path for index\n",
    "index_path = \"../indexes/vaswani-index\"\n",
    "\n",
    "# Build the index if it doesn't already exist\n",
    "if not os.path.exists(os.path.join(index_path, \"data.properties\")):\n",
    "    indexer = pt.IterDictIndexer(index_path)\n",
    "    indexref = indexer.index(\n",
    "        ({\"docno\": doc.doc_id, \"text\": doc.text} for doc in dataset.docs_iter())\n",
    "    )\n",
    "else:\n",
    "    indexref = pt.IndexRef.of(index_path)\n",
    "\n",
    "# Load the index\n",
    "index = pt.IndexFactory.of(indexref)\n"
   ]
  },
  {
   "cell_type": "markdown",
   "id": "cd437b9d",
   "metadata": {},
   "source": [
    "## 🔍 Retrieval: TF-IDF and BM25\n",
    "\n",
    "We now create two retrieval pipelines: one based on the TF-IDF weighting scheme, and one on BM25. These are evaluated on the Vaswani dataset using standard IR metrics.\n"
   ]
  },
  {
   "cell_type": "code",
   "execution_count": 22,
   "id": "f2cfaf80",
   "metadata": {},
   "outputs": [
    {
     "name": "stdout",
     "output_type": "stream",
     "text": [
      "Sample queries:\n",
      "  query_id                                               text\n",
      "0        1  MEASUREMENT OF DIELECTRIC CONSTANT OF LIQUIDS ...\n",
      "1        2  MATHEMATICAL ANALYSIS AND DESIGN DETAILS OF WA...\n",
      "2        3  USE OF DIGITAL COMPUTERS IN THE DESIGN OF BAND...\n",
      "3        4  SYSTEMS OF DATA CODING FOR INFORMATION TRANSFER\\n\n",
      "4        5  USE OF PROGRAMS IN ENGINEERING TESTING OF COMP...\n",
      "Sample qrels:\n",
      "  query_id doc_id  relevance iteration\n",
      "0        1   1239          1         0\n",
      "1        1   1502          1         0\n",
      "2        1   4462          1         0\n",
      "3        1   4569          1         0\n",
      "4        1   5472          1         0\n"
     ]
    },
    {
     "name": "stderr",
     "output_type": "stream",
     "text": [
      "/tmp/ipykernel_11193/422261853.py:2: DeprecationWarning: Call to deprecated class BatchRetrieve. (use pt.terrier.Retriever() instead) -- Deprecated since version 0.11.0.\n",
      "  bm25 = pt.BatchRetrieve(index, wmodel=\"BM25\")\n",
      "/tmp/ipykernel_11193/422261853.py:3: DeprecationWarning: Call to deprecated class BatchRetrieve. (use pt.terrier.Retriever() instead) -- Deprecated since version 0.11.0.\n",
      "  tfidf = pt.BatchRetrieve(index, wmodel=\"TF_IDF\")\n"
     ]
    }
   ],
   "source": [
    "# Create BM25 and TF-IDF retrieval pipelines\n",
    "bm25 = pt.BatchRetrieve(index, wmodel=\"BM25\")\n",
    "tfidf = pt.BatchRetrieve(index, wmodel=\"TF_IDF\")\n",
    "\n",
    "# Load queries and qrels (ground-truth relevance judgments)\n",
    "topics = dataset.queries_iter()\n",
    "qrels = dataset.qrels_iter()\n",
    "\n",
    "# Convert queries and qrels to DataFrames for use with PyTerrier\n",
    "topics_df = pd.DataFrame([t._asdict() for t in topics])\n",
    "qrels_df = pd.DataFrame([q._asdict() for q in qrels])\n",
    "\n",
    "# Preview query format\n",
    "print(\"Sample queries:\")\n",
    "print(topics_df.head())\n",
    "print(\"Sample qrels:\")\n",
    "print(qrels_df.head())"
   ]
  },
  {
   "cell_type": "markdown",
   "id": "958f3c0c",
   "metadata": {},
   "source": [
    "### 🛠 Column Mapping for PyTerrier Compatibility\n",
    "\n",
    "To use custom `topics` and `qrels` DataFrames with `pt.Experiment`, you must rename the columns to match what PyTerrier expects:\n",
    "\n",
    "| Original Column | Renamed To | Reason                        |\n",
    "|------------------|-------------|-------------------------------|\n",
    "| `query_id`       | `qid`       | PyTerrier expects this field |\n",
    "| `text`           | `query`     | PyTerrier expects this field |\n",
    "| `doc_id`         | `docno`     | Matches index document field |\n",
    "| `relevance`      | `label`     | Required as relevance score  |\n"
   ]
  },
  {
   "cell_type": "code",
   "execution_count": 36,
   "id": "4797c063",
   "metadata": {},
   "outputs": [],
   "source": [
    "# Rename columns to match PyTerrier requirements\n",
    "topics_df = topics_df.rename(columns={\"query_id\": \"qid\", \"text\": \"query\"})\n",
    "qrels_df = qrels_df.rename(columns={\"query_id\": \"qid\", \"doc_id\": \"docno\", \"relevance\": \"label\"})"
   ]
  },
  {
   "cell_type": "code",
   "execution_count": 37,
   "id": "e7bd7845",
   "metadata": {},
   "outputs": [
    {
     "data": {
      "text/html": [
       "<div>\n",
       "<style scoped>\n",
       "    .dataframe tbody tr th:only-of-type {\n",
       "        vertical-align: middle;\n",
       "    }\n",
       "\n",
       "    .dataframe tbody tr th {\n",
       "        vertical-align: top;\n",
       "    }\n",
       "\n",
       "    .dataframe thead th {\n",
       "        text-align: right;\n",
       "    }\n",
       "</style>\n",
       "<table border=\"1\" class=\"dataframe\">\n",
       "  <thead>\n",
       "    <tr style=\"text-align: right;\">\n",
       "      <th></th>\n",
       "      <th>name</th>\n",
       "      <th>map</th>\n",
       "      <th>ndcg</th>\n",
       "      <th>R@5</th>\n",
       "      <th>R@10</th>\n",
       "      <th>R@15</th>\n",
       "      <th>R@20</th>\n",
       "      <th>R@30</th>\n",
       "      <th>R@100</th>\n",
       "      <th>R@200</th>\n",
       "      <th>R@500</th>\n",
       "      <th>R@1000</th>\n",
       "    </tr>\n",
       "  </thead>\n",
       "  <tbody>\n",
       "    <tr>\n",
       "      <th>0</th>\n",
       "      <td>TF-IDF</td>\n",
       "      <td>0.290907</td>\n",
       "      <td>0.61537</td>\n",
       "      <td>0.162330</td>\n",
       "      <td>0.220588</td>\n",
       "      <td>0.266475</td>\n",
       "      <td>0.299181</td>\n",
       "      <td>0.368710</td>\n",
       "      <td>0.597182</td>\n",
       "      <td>0.73724</td>\n",
       "      <td>0.866759</td>\n",
       "      <td>0.934214</td>\n",
       "    </tr>\n",
       "    <tr>\n",
       "      <th>1</th>\n",
       "      <td>BM25</td>\n",
       "      <td>0.296519</td>\n",
       "      <td>0.62120</td>\n",
       "      <td>0.162592</td>\n",
       "      <td>0.218513</td>\n",
       "      <td>0.260196</td>\n",
       "      <td>0.300136</td>\n",
       "      <td>0.374032</td>\n",
       "      <td>0.599046</td>\n",
       "      <td>0.73208</td>\n",
       "      <td>0.867562</td>\n",
       "      <td>0.934607</td>\n",
       "    </tr>\n",
       "  </tbody>\n",
       "</table>\n",
       "</div>"
      ],
      "text/plain": [
       "     name       map     ndcg       R@5      R@10      R@15      R@20  \\\n",
       "0  TF-IDF  0.290907  0.61537  0.162330  0.220588  0.266475  0.299181   \n",
       "1    BM25  0.296519  0.62120  0.162592  0.218513  0.260196  0.300136   \n",
       "\n",
       "       R@30     R@100    R@200     R@500    R@1000  \n",
       "0  0.368710  0.597182  0.73724  0.866759  0.934214  \n",
       "1  0.374032  0.599046  0.73208  0.867562  0.934607  "
      ]
     },
     "execution_count": 37,
     "metadata": {},
     "output_type": "execute_result"
    }
   ],
   "source": [
    "from pyterrier.measures import *\n",
    "\n",
    "results = pt.Experiment(\n",
    "    [tfidf, bm25],\n",
    "    topics_df,\n",
    "    qrels_df,\n",
    "    eval_metrics=[\"map\", \"ndcg\", \"recall\"],\n",
    "    names=[\"TF-IDF\", \"BM25\"]\n",
    ")\n",
    "\n",
    "results\n"
   ]
  }
 ],
 "metadata": {
  "kernelspec": {
   "display_name": ".venv",
   "language": "python",
   "name": "python3"
  },
  "language_info": {
   "codemirror_mode": {
    "name": "ipython",
    "version": 3
   },
   "file_extension": ".py",
   "mimetype": "text/x-python",
   "name": "python",
   "nbconvert_exporter": "python",
   "pygments_lexer": "ipython3",
   "version": "3.12.7"
  }
 },
 "nbformat": 4,
 "nbformat_minor": 5
}
